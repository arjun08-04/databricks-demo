{
 "cells": [
  {
   "cell_type": "code",
   "execution_count": 0,
   "metadata": {
    "application/vnd.databricks.v1+cell": {
     "cellMetadata": {
      "byteLimit": 2048000,
      "rowLimit": 10000
     },
     "inputWidgets": {},
     "nuid": "f58984cd-ceea-4f51-86b2-7dcab873a52d",
     "showTitle": false,
     "tableResultSettingsMap": {},
     "title": ""
    }
   },
   "outputs": [],
   "source": [
    "spark.read.csv(\n",
    "    path=\"dbfs:/FileStore/michelin/customers.csv\", header=True, inferSchema=True\n",
    ").write.mode(\"overwrite\").saveAsTable(\"michelin_ws_3099258635086174.quickstart_schema.customers_bronze\")\n",
    " \n",
    "spark.read.table(\"michelin_ws_3099258635086174.quickstart_schema.customers_bronze\").display()"
   ]
  },
  {
   "cell_type": "code",
   "execution_count": 0,
   "metadata": {
    "application/vnd.databricks.v1+cell": {
     "cellMetadata": {
      "byteLimit": 2048000,
      "rowLimit": 10000
     },
     "inputWidgets": {},
     "nuid": "6f7ce3da-a4a3-4cbe-aa6f-73687a3710ba",
     "showTitle": false,
     "tableResultSettingsMap": {},
     "title": ""
    }
   },
   "outputs": [],
   "source": [
    "from pyspark.sql.functions import current_timestamp,col\n",
    "spark.read.csv(\n",
    "    path=\"dbfs:/FileStore/michelin/orders_001.csv\", header=True, inferSchema=True\n",
    ").withColumn(\"current_time\", current_timestamp()).write.mode(\"overwrite\").saveAsTable(\"michelin_ws_3099258635086174.quickstart_schema.ordersnew_bronze\")\n",
    " \n",
    "spark.read.table(\"michelin_ws_3099258635086174.quickstart_schema.ordersnew_bronze\").display()"
   ]
  },
  {
   "cell_type": "code",
   "execution_count": 0,
   "metadata": {
    "application/vnd.databricks.v1+cell": {
     "cellMetadata": {},
     "inputWidgets": {},
     "nuid": "0cc3859f-90e6-4341-b782-149406d38357",
     "showTitle": false,
     "tableResultSettingsMap": {},
     "title": ""
    }
   },
   "outputs": [],
   "source": []
  }
 ],
 "metadata": {
  "application/vnd.databricks.v1+notebook": {
   "computePreferences": null,
   "dashboards": [],
   "environmentMetadata": {
    "base_environment": "",
    "environment_version": "2"
   },
   "inputWidgetPreferences": null,
   "language": "python",
   "notebookMetadata": {
    "pythonIndentUnit": 4
   },
   "notebookName": "Bronze layer",
   "widgets": {}
  },
  "language_info": {
   "name": "python"
  }
 },
 "nbformat": 4,
 "nbformat_minor": 0
}
